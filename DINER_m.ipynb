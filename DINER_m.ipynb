{
  "cells": [
    {
      "cell_type": "code",
      "execution_count": null,
      "metadata": {
        "id": "pFuz4J-Rs-9d"
      },
      "outputs": [],
      "source": [
        "import torch\n",
        "from PIL import Image\n",
        "import numpy as np\n",
        "import torch.nn as nn\n",
        "from torchvision import transforms\n",
        "from torchvision import transforms\n",
        "import torch.nn.functional as F\n",
        "from PIL import Image\n",
        "from torch.utils.data import DataLoader, Dataset\n",
        "import matplotlib.pyplot as plt\n",
        "\n",
        "from data import normalize_image,CustomDataset,get_coord_rgb\n",
        "from model import hMLP,DinerSiren,DINERMlp,newhMLP,di2Mlp,nomodMLP,nomodSirenMLP,newhMLPSiren\n",
        "from utils import disp_img_train,residual_display,PSNR,save_image,get_svd_and_num_eigenvectors_above_threshold\n",
        "\n",
        "import torch.nn as nn\n",
        "import torch.optim as optim"
      ]
    },
    {
      "cell_type": "code",
      "execution_count": null,
      "metadata": {
        "id": "D5KMdtbUuduU"
      },
      "outputs": [],
      "source": [
        "Device=torch.device('cuda' if torch.cuda.is_available() else 'cpu')"
      ]
    },
    {
      "cell_type": "code",
      "execution_count": null,
      "metadata": {
        "colab": {
          "base_uri": "https://localhost:8080/",
          "height": 435
        },
        "id": "KB9UzhmKtB-r",
        "outputId": "dfbcc2cc-5378-4f84-9664-a711ebb96cfb"
      },
      "outputs": [],
      "source": [
        "path='RGB_OR_1200x1200_00.png'\n",
        "img=normalize_image(path).to(Device)\n",
        "h,w=img.shape[1],img.shape[2]\n",
        "#img=img[:3,:576,:576]\n",
        "disp_img=img*0.5+0.5\n",
        "plt.imshow(disp_img.permute(1,2,0).to('cpu').numpy())\n",
        "h,w=disp_img.shape[1],disp_img.shape[2]\n",
        "plt.show()"
      ]
    },
    {
      "cell_type": "code",
      "execution_count": null,
      "metadata": {
        "id": "1nS0aoAR24sg"
      },
      "outputs": [],
      "source": [
        "import os\n",
        "def result_func():\n",
        "  img1=model(1)\n",
        "  img1=img1.view(h,w,3).detach()\n",
        "  img2=img.permute(1,2,0)\n",
        "  img1=img1*0.5+0.5\n",
        "  psnr =PSNR(img1, img2)\n",
        "\n",
        "  # Save PSNR, model.d, and model_name in results.txt\n",
        "  with open('results.txt', 'a') as file:\n",
        "      file.write(f\"{psnr:.2f},{model.d} \\n\")\n",
        "\n",
        "  # Save the image with a similar name\n",
        "  image_name = os.path.splitext(path)[0]\n",
        "  image_extension = os.path.splitext(path)[1]\n",
        "  new_image_name = f\"{image_name}_psnr{psnr:.2f}_d={model.d}_{image_extension}\"\n",
        "  img2=img2.detach().to('cpu').numpy()\n",
        "  save_image(img2,new_image_name,h,w,model,usemodel=False)\n",
        "  return"
      ]
    },
    {
      "cell_type": "code",
      "execution_count": null,
      "metadata": {
        "id": "TtoQJaa4tP0m"
      },
      "outputs": [],
      "source": [
        "dataset = CustomDataset(path)\n",
        "coord_x,rgb_values_x=get_coord_rgb(dataset)"
      ]
    },
    {
      "cell_type": "code",
      "execution_count": null,
      "metadata": {
        "id": "QMvL7bepuCgJ"
      },
      "outputs": [],
      "source": [
        "coord_x,rgb_values_x=coord_x.to(Device),rgb_values_x.to(Device)"
      ]
    },
    {
      "cell_type": "code",
      "execution_count": null,
      "metadata": {
        "id": "WNKjItgc33tM"
      },
      "outputs": [],
      "source": [
        "#!echo '' > results.txt"
      ]
    },
    {
      "cell_type": "code",
      "execution_count": null,
      "metadata": {},
      "outputs": [],
      "source": [
        "!nvidia-smi"
      ]
    },
    {
      "cell_type": "code",
      "execution_count": null,
      "metadata": {},
      "outputs": [],
      "source": [
        "l=[1,5,10,20,50,100,125,150]\n",
        "for i in l:\n",
        "  input_size  = 2  \n",
        "  hidden_size = 64\n",
        "  inhash_size = 300\n",
        "  output_size = 3  \n",
        "  model=newhMLP(input_size,hidden_size,output_size,1200,1200,d=i)\n",
        "  model=model.to(Device)\n",
        "  print('modulation_RELU',model.d,sum(p.numel() for p in model.parameters() if p.requires_grad) )"
      ]
    },
    {
      "cell_type": "code",
      "execution_count": null,
      "metadata": {},
      "outputs": [],
      "source": [
        "model=DINERMlp(2,64,3,1200,1200)\n",
        "print('modulation_RELU',sum(p.numel() for p in model.parameters() if p.requires_grad) )"
      ]
    },
    {
      "cell_type": "code",
      "execution_count": null,
      "metadata": {},
      "outputs": [],
      "source": [
        "x=torch.randint(0,100,(1200,1200))\n",
        "print(x[:5,:5])\n",
        "x=(x-50)/50\n",
        "print(x[:5,:5])\n",
        "coord_x,rgb_values_x=torch.zeros(1200*1200,1),torch.zeros(1200*1200,1)\n",
        "for i in range(1200):\n",
        "    for j in range(1200):\n",
        "        coord_x[i*1200+j,:]=i*1200+j\n",
        "        #print(rgb_values_x[i*1200+j,:])\n",
        "        rgb_values_x[i*1200+j,:]=x[i,j]\n",
        "\n",
        "coord_x,rgb_values_x=coord_x.to(Device),rgb_values_x.to(Device)"
      ]
    },
    {
      "cell_type": "code",
      "execution_count": null,
      "metadata": {},
      "outputs": [],
      "source": [
        "print(rgb_values_x)"
      ]
    },
    {
      "cell_type": "code",
      "execution_count": null,
      "metadata": {
        "colab": {
          "base_uri": "https://localhost:8080/",
          "height": 391
        },
        "id": "0OSPoYkG2XVd",
        "outputId": "58582421-0db6-41a1-e22a-49d6d5ac2dfa"
      },
      "outputs": [],
      "source": [
        "l=[70]\n",
        "#l=[300,350,400,450]\n",
        "#l=[250,300,350]\n",
        "for i in l:\n",
        "  input_size = 2  \n",
        "  hidden_size = 64\n",
        "  inhash_size = 300\n",
        "  output_size = 1  \n",
        "  model=newhMLP(input_size,hidden_size,output_size,1200,1200,d=i)\n",
        "  model=model.to(Device)\n",
        "  \n",
        "  criterion1 = nn.L1Loss()\n",
        "  criterion=nn.MSELoss()\n",
        "  optimizer = optim.Adam(model.parameters(), lr=0.0001)\n",
        "  num_epochs = 10000\n",
        "\n",
        "  for epoch in range(num_epochs):\n",
        "      output = model(1)\n",
        "      #output=torch.round(output)\n",
        "      loss = criterion(output, rgb_values_x)\n",
        "\n",
        "      loss.backward()\n",
        "      optimizer.step()\n",
        "      optimizer.zero_grad()\n",
        "\n",
        "      \"\"\" if epoch_loss<lowest_loss:\n",
        "          lowest_loss=epoch_loss\n",
        "          torch.save(model.state_dict(), 'model.pth') \"\"\"\n",
        "          #save_image(img, f\"image_epoch_{epoch}.png\",h,w,model,usemodel=True)\n",
        "          \n",
        "  #result_func()\n",
        "  print(loss.item())\n"
      ]
    },
    {
      "cell_type": "code",
      "execution_count": null,
      "metadata": {},
      "outputs": [],
      "source": [
        "def f(x,model):\n",
        "    model.eval()\n",
        "    with torch.no_grad(): \n",
        "        z=model(1)\n",
        "        z=z.view(1200,1200)\n",
        "        y,z=x*50+50,z*50+50\n",
        "        y=y.to(Device)\n",
        "        z=torch.round(z)\n",
        "        l=torch.pow(y-z,2)\n",
        "        print(y,z)\n",
        "        print(l)\n",
        "        print(torch.max(l),torch.argmax(l))\n",
        "        print(torch.mean(l))\n",
        "    return l\n",
        "l=f(x,model)    "
      ]
    },
    {
      "cell_type": "code",
      "execution_count": null,
      "metadata": {},
      "outputs": [],
      "source": [
        "def count(l):\n",
        "    count=0\n",
        "    for i in l:\n",
        "        for j in i:\n",
        "            if j!=0:\n",
        "                count+=1\n",
        "    return count\n",
        "((count(l)/(1200*1200)),count(l))"
      ]
    },
    {
      "cell_type": "code",
      "execution_count": null,
      "metadata": {},
      "outputs": [],
      "source": [
        "z=z*50+50\n",
        "loss=torch.mean(torch.round(z)-x.to(Device))\n",
        "loss"
      ]
    },
    {
      "cell_type": "code",
      "execution_count": null,
      "metadata": {},
      "outputs": [],
      "source": [
        "x=torch.randint(0,100,(1200,1200,3))\n",
        "print(x.shape)\n"
      ]
    },
    {
      "cell_type": "code",
      "execution_count": null,
      "metadata": {},
      "outputs": [],
      "source": [
        "print(modell)"
      ]
    },
    {
      "cell_type": "code",
      "execution_count": null,
      "metadata": {},
      "outputs": [],
      "source": [
        "class MLP(nn.Module):\n",
        "    def __init__(self):\n",
        "        super(MLP,self).__init__()\n",
        "        self.fc1=nn.Linear(2,64)\n",
        "        self.fc2=nn.Linear(64,64)\n",
        "        self.fc3=nn.Linear(64,64)\n",
        "        self.fc4=nn.Linear(64,3)\n",
        "    def forward(self,x):\n",
        "        return x\n",
        "model=MLP()\n",
        "sum(p.numel() for p in model.parameters() if p.requires_grad)"
      ]
    },
    {
      "cell_type": "code",
      "execution_count": null,
      "metadata": {},
      "outputs": [],
      "source": [
        "img1=model(1)\n",
        "img1=img1.view(h,w,3).detach()\n",
        "img2=img.permute(1,2,0)\n",
        "img1=img1*0.5+0.5\n",
        "psnr =PSNR(img1, img2)\n",
        "\n",
        "disp_img_train(model,1200,1200)"
      ]
    },
    {
      "cell_type": "code",
      "execution_count": null,
      "metadata": {},
      "outputs": [],
      "source": [
        "result_func()"
      ]
    },
    {
      "cell_type": "code",
      "execution_count": null,
      "metadata": {
        "id": "CYG9KfXztJ_j"
      },
      "outputs": [],
      "source": [
        "# Create the MLP model\n",
        "input_size = 2  # x and y coordinates\n",
        "hidden_size = 64\n",
        "inhash_size = 300\n",
        "output_size = 3  # RGB values\n",
        "model=nomodMLP(input_size, hidden_size, output_size,1200,1200)\n",
        "model=model.to(Device)\n",
        "# Define the loss function and optimizer\n",
        "criterion1 = nn.L1Loss()\n",
        "criterion=nn.MSELoss()\n",
        "optimizer = optim.Adam(model.parameters(), lr=0.001)"
      ]
    },
    {
      "cell_type": "code",
      "execution_count": null,
      "metadata": {
        "id": "YHQoPPEBG_lX"
      },
      "outputs": [],
      "source": [
        "lowest_loss=2\n",
        "num_epochs = 10000\n",
        "for epoch in range(num_epochs):\n",
        "    epoch_loss=0\n",
        "    count=0\n",
        "\n",
        "    output = model(1)\n",
        "    loss = criterion(output, rgb_values_x)\n",
        "\n",
        "    epoch_loss+=loss.item()\n",
        "    count+=1\n",
        "\n",
        "    loss.backward()\n",
        "    optimizer.step()\n",
        "    optimizer.zero_grad()\n",
        "      #print(loss.item())\n",
        "    epoch_loss=epoch_loss/count\n",
        "    \"\"\"if epoch_loss<lowest_loss:\n",
        "        lowest_loss=epoch_loss\n",
        "        torch.save(model.state_dict(), 'model.pth')\"\"\"\n",
        "\n",
        "    if (epoch) % 100 == 0:\n",
        "        print(f'Epoch [{epoch+1}/{num_epochs}], Loss: {loss.item():.6f},Lowest_loss: {lowest_loss:.4f}')\n",
        "        disp_img_train(model,h,w)\n",
        "        #save_image(img, f\"image_epoch_{epoch}.png\",h,w,model,usemodel=True)\n",
        "\n"
      ]
    },
    {
      "cell_type": "code",
      "execution_count": null,
      "metadata": {
        "colab": {
          "base_uri": "https://localhost:8080/"
        },
        "id": "B_6bbUGcyi_T",
        "outputId": "1f3629f0-b450-4966-9573-590fe00c8e60"
      },
      "outputs": [],
      "source": [
        "img1=model(1)\n",
        "img1=img1.view(h,w,3).detach()\n",
        "img2=img.permute(1,2,0)\n",
        "img1=img1*0.5+0.5\n",
        "psnr =PSNR(img1, img2)\n",
        "psnr"
      ]
    },
    {
      "cell_type": "code",
      "execution_count": null,
      "metadata": {
        "id": "jNiaLHKRimkA"
      },
      "outputs": [],
      "source": [
        "!nvidia-smi"
      ]
    },
    {
      "cell_type": "code",
      "execution_count": null,
      "metadata": {
        "id": "7baluZsTtt2s"
      },
      "outputs": [],
      "source": [
        "torch.save(model.state_dict(), 'model.pth')"
      ]
    },
    {
      "cell_type": "code",
      "execution_count": null,
      "metadata": {
        "id": "Pr6QffyxuCgM"
      },
      "outputs": [],
      "source": [
        "disp_img_train(model)"
      ]
    },
    {
      "cell_type": "code",
      "execution_count": null,
      "metadata": {
        "id": "DdoAnzjoei6C"
      },
      "outputs": [],
      "source": [
        "new_img=img*0.5+0.5\n",
        "plt.imshow(new_img.permute(1,2,0).to('cpu').numpy())\n",
        "plt.show()"
      ]
    },
    {
      "cell_type": "code",
      "execution_count": null,
      "metadata": {
        "id": "2ZyHCxlqKxUQ"
      },
      "outputs": [],
      "source": [
        "genr_image=model(1)\n",
        "genr_image=genr_image.view(h,w,3)\n",
        "genr_image=genr_image*0.5+0.5\n",
        "print(f'PSNR: {PSNR(genr_image,img.permute(1,2,0))}')"
      ]
    },
    {
      "cell_type": "code",
      "execution_count": null,
      "metadata": {
        "id": "b9W5tPJEuCgN"
      },
      "outputs": [],
      "source": [
        "\n",
        "save(genr_image,\"imagesiren_15_33.8.png\")"
      ]
    },
    {
      "cell_type": "code",
      "execution_count": null,
      "metadata": {
        "id": "PUn08CZ-ufXr"
      },
      "outputs": [],
      "source": [
        "hash_im=imagefrom_hash(model.hash[:,0],h,w)\n",
        "print(imagefrom_hash(model.hash[:,0],h,w).shape)"
      ]
    },
    {
      "cell_type": "code",
      "execution_count": null,
      "metadata": {},
      "outputs": [],
      "source": [
        "hash1=torch.matmul(model.hash01,model.hash02)\n",
        "hash2=torch.matmul(model.hash11,model.hash12)\n",
        "hash3=torch.matmul(model.hash21,model.hash22)\n",
        "hash4=torch.matmul(model.hash31,model.hash32)\n",
        "hash11=torch.matmul(model.hash011,model.hash021)\n",
        "hash21=torch.matmul(model.hash111,model.hash121)\n",
        "hash31=torch.matmul(model.hash211,model.hash221)\n",
        "hash41=torch.matmul(model.hash311,model.hash321)"
      ]
    },
    {
      "cell_type": "code",
      "execution_count": null,
      "metadata": {},
      "outputs": [],
      "source": [
        "def get_svd_and_num_eigenvectors_above_threshold(matrix, threshold=0.5,Device='cpu'):\n",
        "  U, S, V = torch.svd(matrix)\n",
        "  matrix=torch.mm(torch.mm(U, torch.diag(S)), V.t())\n",
        "\n",
        "  m = nn.Threshold(threshold,0)\n",
        "  S=m(S)\n",
        "  num_eigenvectors = torch.sum(S > threshold)\n",
        "  new_matrix=torch.mm(torch.mm(U, torch.diag(S)), V.t()).to(Device)\n",
        "  print(torch.dist(new_matrix,matrix.to(Device)))\n",
        "\n",
        "  return new_matrix,num_eigenvectors,S"
      ]
    },
    {
      "cell_type": "code",
      "execution_count": null,
      "metadata": {
        "id": "Kp0sX9vsvt36"
      },
      "outputs": [],
      "source": [
        "#x=model.hash[:,0].unsqueeze(1)\n",
        "m,n,S=get_svd_and_num_eigenvectors_above_threshold(hash41,0.05)\n",
        "n,S[:100]"
      ]
    },
    {
      "cell_type": "code",
      "execution_count": null,
      "metadata": {
        "id": "Z9hRFbUkIoy2"
      },
      "outputs": [],
      "source": [
        "with torch.no_grad():\n",
        "  x=model.hash.data\n",
        "  print(x.shape)\n",
        "  m=m.view(x.shape,1)\n",
        "  print(m.shape)\n",
        "  model.hash.data=m\n",
        "  disp_img_train(model)"
      ]
    },
    {
      "cell_type": "code",
      "execution_count": null,
      "metadata": {
        "id": "N7guLhsDM1iM"
      },
      "outputs": [],
      "source": [
        "genr_image=model(1)\n",
        "genr_image=genr_image.view(h,w,3)\n",
        "genr_image=genr_image*0.5+0.5\n",
        "print(f'PSNR,n: {PSNR(genr_image,img.permute(1,2,0))},{n}')"
      ]
    },
    {
      "cell_type": "code",
      "execution_count": null,
      "metadata": {
        "id": "Yc9bOvBxzqSi"
      },
      "outputs": [],
      "source": [
        "x=torch.randn(1200,1200)\n",
        "a,b=get_svd_and_num_eigenvectors_above_threshold(x,0.9)\n",
        "b.sum(),a"
      ]
    },
    {
      "cell_type": "code",
      "execution_count": null,
      "metadata": {
        "id": "q92pDIpouCgN"
      },
      "outputs": [],
      "source": [
        "model.eval()\n",
        "with torch.no_grad():\n",
        "  genr_image=torch.zeros(h, w, 3).to(Device)\n",
        "  hash=torch.matmul(model.hash01,model.hash02)\n",
        "  h,w=hash.shape\n",
        "  hash=hash.view(w*h,1)\n",
        "  for x in range(h):\n",
        "    for y in range(w):\n",
        "      #genr_image[x,y,:]=model(torch.tensor([x,y],dtype=torch.float32),hash=False)\n",
        "      #genr_image[x,y,:]=model(torch.cat((model.hash[w*x+y].unsqueeze(1),model.hash[w*x+y].unsqueeze(1)),dim=1),hash=False)\n",
        "      #genr_image[x,y,:]=model(torch.tensor([x,y],dtype=torch.float32).to(Device))\n",
        "      genr_image[x,y,:]=model(hash[w*x+y],hash=False)\n",
        "\n",
        "  genr_image=genr_image*0.5+0.5\n",
        "  plt.imshow(genr_image.detach().to('cpu').numpy())\n",
        "  plt.show()"
      ]
    }
  ],
  "metadata": {
    "accelerator": "GPU",
    "colab": {
      "gpuType": "T4",
      "provenance": []
    },
    "kernelspec": {
      "display_name": "Python 3 (ipykernel)",
      "language": "python",
      "name": "python3"
    },
    "language_info": {
      "codemirror_mode": {
        "name": "ipython",
        "version": 3
      },
      "file_extension": ".py",
      "mimetype": "text/x-python",
      "name": "python",
      "nbconvert_exporter": "python",
      "pygments_lexer": "ipython3",
      "version": "3.9.19"
    }
  },
  "nbformat": 4,
  "nbformat_minor": 0
}
